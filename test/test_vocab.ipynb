{
 "cells": [
  {
   "cell_type": "code",
   "execution_count": 1,
   "id": "4fd1000b",
   "metadata": {},
   "outputs": [
    {
     "name": "stdout",
     "output_type": "stream",
     "text": [
      "Adding /home/hoangtungvum/CODE/MIC to sys.path\n"
     ]
    }
   ],
   "source": [
    "import sys\n",
    "import os\n",
    "project_root = os.path.abspath(os.path.join(os.getcwd(), '..'))\n",
    "if project_root not in sys.path:\n",
    "    print(f\"Adding {project_root} to sys.path\")\n",
    "    sys.path.insert(0, project_root)"
   ]
  },
  {
   "cell_type": "code",
   "execution_count": 2,
   "id": "afa64938",
   "metadata": {},
   "outputs": [],
   "source": [
    "from transformers import AutoTokenizer\n",
    "\n",
    "tokenizer = AutoTokenizer.from_pretrained(\"microsoft/BiomedNLP-PubMedBERT-base-uncased-abstract\")\n"
   ]
  },
  {
   "cell_type": "code",
   "execution_count": null,
   "id": "9670923a",
   "metadata": {},
   "outputs": [
    {
     "ename": "AttributeError",
     "evalue": "'Dataset' object has no attribute 'vocab'",
     "output_type": "error",
     "traceback": [
      "\u001b[0;31m---------------------------------------------------------------------------\u001b[0m",
      "\u001b[0;31mAttributeError\u001b[0m                            Traceback (most recent call last)",
      "Cell \u001b[0;32mIn[4], line 11\u001b[0m\n\u001b[1;32m      9\u001b[0m datasets \u001b[38;5;241m=\u001b[39m [Dataset\u001b[38;5;241m.\u001b[39mfrom_file(f) \u001b[38;5;28;01mfor\u001b[39;00m f \u001b[38;5;129;01min\u001b[39;00m arrow_files]\n\u001b[1;32m     10\u001b[0m full_dataset \u001b[38;5;241m=\u001b[39m concatenate_datasets(datasets)\n\u001b[0;32m---> 11\u001b[0m \u001b[38;5;28mprint\u001b[39m(\u001b[43mfull_dataset\u001b[49m\u001b[38;5;241;43m.\u001b[39;49m\u001b[43mvocab\u001b[49m)\n\u001b[1;32m     15\u001b[0m text_column \u001b[38;5;241m=\u001b[39m \u001b[38;5;124m\"\u001b[39m\u001b[38;5;124mcaption\u001b[39m\u001b[38;5;124m\"\u001b[39m\n\u001b[1;32m     16\u001b[0m all_text \u001b[38;5;241m=\u001b[39m \u001b[38;5;124m\"\u001b[39m\u001b[38;5;124m \u001b[39m\u001b[38;5;124m\"\u001b[39m\u001b[38;5;241m.\u001b[39mjoin(full_dataset[text_column])\n",
      "\u001b[0;31mAttributeError\u001b[0m: 'Dataset' object has no attribute 'vocab'"
     ]
    }
   ],
   "source": [
    "from datasets import Dataset, concatenate_datasets\n",
    "import os\n",
    "import re\n",
    "\n",
    "# === Load ROCO Dataset ===\n",
    "data_path = '/home/hoangtungvum/CODE/MIC/data/mdwiratathya___roco-radiology/default/0.0.0/03471f547bb646a1f447add638d46bb3507523e8'\n",
    "\n",
    "arrow_files = [os.path.join(data_path, f) for f in os.listdir(data_path) if f.endswith('.arrow')]\n",
    "datasets = [Dataset.from_file(f) for f in arrow_files]\n",
    "full_dataset = concatenate_datasets(datasets)\n",
    "\n",
    "\n",
    "\n",
    "text_column = \"caption\"\n",
    "all_text = \" \".join(full_dataset[text_column])\n",
    "words = set(re.findall(r\"\\b\\w+\\b\", all_text.lower()))\n",
    "print(words)\n",
    "tokenizer_vocab = tokenizer.get_vocab()\n",
    "covered = set()\n",
    "uncovered = set()\n",
    "\n",
    "for word in words:\n",
    "    tokens = tokenizer.tokenize(word)\n",
    "    if \"[UNK]\" in tokens :\n",
    "        uncovered.add(word)\n",
    "    else:\n",
    "        covered.add(word)\n",
    "\n",
    "print(f\"Total unique words in ROCO: {len(words)}\")\n",
    "print(f\"Words covered by PubMedBERT: {len(covered)}\")\n",
    "print(f\"Words not covered (partially or fully): {len(uncovered)}\")\n",
    "print(\"Examples of uncovered words:\", list(uncovered)[:20])  # Show first 20\n",
    "\n",
    "with open(\"uncovered_words.txt\", \"w\") as f:\n",
    "    for word in sorted(uncovered):\n",
    "        f.write(word + \"\\n\")\n"
   ]
  },
  {
   "cell_type": "code",
   "execution_count": null,
   "id": "ce7fa642",
   "metadata": {},
   "outputs": [
    {
     "data": {
      "text/plain": [
       "['cruc', '##io']"
      ]
     },
     "execution_count": 6,
     "metadata": {},
     "output_type": "execute_result"
    }
   ],
   "source": [
    "tokens = tokenizer.tokenize('crucio')\n",
    "tokens"
   ]
  },
  {
   "cell_type": "code",
   "execution_count": null,
   "id": "77943d22",
   "metadata": {},
   "outputs": [],
   "source": []
  }
 ],
 "metadata": {
  "kernelspec": {
   "display_name": "MIC",
   "language": "python",
   "name": "python3"
  },
  "language_info": {
   "codemirror_mode": {
    "name": "ipython",
    "version": 3
   },
   "file_extension": ".py",
   "mimetype": "text/x-python",
   "name": "python",
   "nbconvert_exporter": "python",
   "pygments_lexer": "ipython3",
   "version": "3.12.3"
  }
 },
 "nbformat": 4,
 "nbformat_minor": 5
}
