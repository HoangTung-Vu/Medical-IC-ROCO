{
 "cells": [
  {
   "cell_type": "code",
   "execution_count": 1,
   "id": "570d9701",
   "metadata": {},
   "outputs": [],
   "source": [
    "import sys\n",
    "import os\n",
    "sys.path.append(os.path.abspath(os.path.join(os.getcwd(), \"..\")))"
   ]
  },
  {
   "cell_type": "code",
   "execution_count": 2,
   "id": "d7f2b689",
   "metadata": {},
   "outputs": [
    {
     "name": "stderr",
     "output_type": "stream",
     "text": [
      "2025-04-20 23:38:30.131634: I tensorflow/core/util/port.cc:153] oneDNN custom operations are on. You may see slightly different numerical results due to floating-point round-off errors from different computation orders. To turn them off, set the environment variable `TF_ENABLE_ONEDNN_OPTS=0`.\n",
      "2025-04-20 23:38:30.410388: E external/local_xla/xla/stream_executor/cuda/cuda_fft.cc:477] Unable to register cuFFT factory: Attempting to register factory for plugin cuFFT when one has already been registered\n",
      "WARNING: All log messages before absl::InitializeLog() is called are written to STDERR\n",
      "E0000 00:00:1745167110.543035  125844 cuda_dnn.cc:8310] Unable to register cuDNN factory: Attempting to register factory for plugin cuDNN when one has already been registered\n",
      "E0000 00:00:1745167110.579133  125844 cuda_blas.cc:1418] Unable to register cuBLAS factory: Attempting to register factory for plugin cuBLAS when one has already been registered\n",
      "2025-04-20 23:38:30.865660: I tensorflow/core/platform/cpu_feature_guard.cc:210] This TensorFlow binary is optimized to use available CPU instructions in performance-critical operations.\n",
      "To enable the following instructions: AVX2 AVX512F AVX512_VNNI FMA, in other operations, rebuild TensorFlow with the appropriate compiler flags.\n"
     ]
    }
   ],
   "source": [
    "import torch\n",
    "from torchvision.models import resnet18\n",
    "from utils.trainer import Trainer\n",
    "dataroot = os.path.join(\"..\", \"data\", \"03471f547bb646a1f447add638d46bb3507523e8\")"
   ]
  },
  {
   "cell_type": "code",
   "execution_count": 3,
   "id": "709267ab",
   "metadata": {},
   "outputs": [
    {
     "name": "stderr",
     "output_type": "stream",
     "text": [
      "/home/hoangtungvum/.local/lib/python3.12/site-packages/torchvision/models/_utils.py:208: UserWarning: The parameter 'pretrained' is deprecated since 0.13 and may be removed in the future, please use 'weights' instead.\n",
      "  warnings.warn(\n",
      "/home/hoangtungvum/.local/lib/python3.12/site-packages/torchvision/models/_utils.py:223: UserWarning: Arguments other than a weight enum or `None` for 'weights' are deprecated since 0.13 and may be removed in the future. The current behavior is equivalent to passing `weights=None`.\n",
      "  warnings.warn(msg)\n"
     ]
    },
    {
     "name": "stdout",
     "output_type": "stream",
     "text": [
      "Trainer khởi tạo thành công!\n"
     ]
    }
   ],
   "source": [
    "def sample_trainer():\n",
    "    return Trainer(\n",
    "        model=resnet18(pretrained=False),\n",
    "        dataroot=dataroot,\n",
    "        batch_size=4,\n",
    "        num_workers=0,\n",
    "        num_epochs=2,\n",
    "        learning_rate=1e-3,\n",
    "        save_freq=1,\n",
    "        checkpoint_path=\"tests/checkpoints\",\n",
    "        use_mixed_precision=False,\n",
    "        early_stopping=1\n",
    "    )\n",
    "\n",
    "# 📌 Hàm kiểm tra khởi tạo Trainer\n",
    "def test_trainer_initialization(sample_trainer):\n",
    "    trainer = sample_trainer\n",
    "    assert trainer.model is not None\n",
    "    assert trainer.device in [torch.device(\"cuda\"), torch.device(\"cpu\")]\n",
    "    assert trainer.train_loader is not None\n",
    "    assert trainer.valid_loader is not None\n",
    "    print(\"Trainer khởi tạo thành công!\")\n",
    "\n",
    "# 📌 Gọi test thử\n",
    "test_trainer_initialization(sample_trainer())"
   ]
  },
  {
   "cell_type": "code",
   "execution_count": null,
   "id": "6addff8c",
   "metadata": {},
   "outputs": [],
   "source": []
  }
 ],
 "metadata": {
  "kernelspec": {
   "display_name": "MIC",
   "language": "python",
   "name": "python3"
  },
  "language_info": {
   "codemirror_mode": {
    "name": "ipython",
    "version": 3
   },
   "file_extension": ".py",
   "mimetype": "text/x-python",
   "name": "python",
   "nbconvert_exporter": "python",
   "pygments_lexer": "ipython3",
   "version": "3.12.3"
  }
 },
 "nbformat": 4,
 "nbformat_minor": 5
}
